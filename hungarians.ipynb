{
  "nbformat": 4,
  "nbformat_minor": 0,
  "metadata": {
    "colab": {
      "provenance": [],
      "mount_file_id": "1sU0nUuXqd36K_haYvxEHDiljXn0syLOO",
      "authorship_tag": "ABX9TyPto9kZyemxGtoY9xrBi/bP",
      "include_colab_link": true
    },
    "kernelspec": {
      "name": "python3",
      "display_name": "Python 3"
    },
    "language_info": {
      "name": "python"
    }
  },
  "cells": [
    {
      "cell_type": "markdown",
      "metadata": {
        "id": "view-in-github",
        "colab_type": "text"
      },
      "source": [
        "<a href=\"https://colab.research.google.com/github/Halimazz/uas-bengkel-koding/blob/main/hungarians.ipynb\" target=\"_parent\"><img src=\"https://colab.research.google.com/assets/colab-badge.svg\" alt=\"Open In Colab\"/></a>"
      ]
    },
    {
      "cell_type": "code",
      "execution_count": 1,
      "metadata": {
        "id": "z-SICBI_snLk"
      },
      "outputs": [],
      "source": [
        "import numpy as np\n",
        "import pandas as pd\n",
        "import matplotlib.pyplot as plt\n",
        "import seaborn as sns\n",
        "import itertools"
      ]
    },
    {
      "cell_type": "code",
      "source": [
        "dir = \"hungarian.data\"\n",
        "with open (dir, encoding='Latin1') as file:\n",
        "    lines = [line.strip() for line in file]\n",
        "lines[0:10]\n",
        ""
      ],
      "metadata": {
        "colab": {
          "base_uri": "https://localhost:8080/"
        },
        "id": "GuhKzK4Bs06k",
        "outputId": "1b0f71cb-c6df-4397-e42e-809ba0f981f8"
      },
      "execution_count": 2,
      "outputs": [
        {
          "output_type": "execute_result",
          "data": {
            "text/plain": [
              "['1254 0 40 1 1 0 0',\n",
              " '-9 2 140 0 289 -9 -9 -9',\n",
              " '0 -9 -9 0 12 16 84 0',\n",
              " '0 0 0 0 150 18 -9 7',\n",
              " '172 86 200 110 140 86 0 0',\n",
              " '0 -9 26 20 -9 -9 -9 -9',\n",
              " '-9 -9 -9 -9 -9 -9 -9 12',\n",
              " '20 84 0 -9 -9 -9 -9 -9',\n",
              " '-9 -9 -9 -9 -9 1 1 1',\n",
              " '1 1 -9. -9. name']"
            ]
          },
          "metadata": {},
          "execution_count": 2
        }
      ]
    },
    {
      "cell_type": "code",
      "source": [
        "import itertools\n",
        "import pandas as pd\n",
        "\n",
        "# Nama file\n",
        "dir = \"hungarian.data\"\n",
        "\n",
        "# Membaca file dengan encoding Latin1\n",
        "with open(dir, encoding='Latin1') as file:\n",
        "    lines = [line.strip() for line in file]\n",
        "\n",
        "# Menampilkan 10 baris pertama dari lines untuk pengecekan\n",
        "print(lines[0:10])\n",
        "\n",
        "# Fungsi untuk memeriksa panjang baris dan membentuk grup data\n",
        "def split_lines(lines, length=10):\n",
        "    for i in range(0, len(lines), length):\n",
        "        chunk = ''.join(lines[i: i+length])\n",
        "        if len(chunk) == 76 * length:\n",
        "            yield chunk.split()\n",
        "\n",
        "# Mengambil data yang panjangnya tepat 76 * 10 karakter\n",
        "data = itertools.takewhile(lambda x: all(len(feature) == 76 for feature in x), split_lines(lines))\n",
        "\n",
        "# Mengonversi hasil dari takewhile menjadi DataFrame\n",
        "df = pd.DataFrame.from_records(data)\n",
        "\n",
        "# Menampilkan DataFrame\n",
        "df.head()\n"
      ],
      "metadata": {
        "id": "_S4s9KL9tw54"
      },
      "execution_count": null,
      "outputs": []
    }
  ]
}